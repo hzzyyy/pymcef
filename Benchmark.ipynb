{
 "cells": [
  {
   "cell_type": "markdown",
   "metadata": {},
   "source": [
    "# Introduction\n",
    "PyMCEF construct the efficient frontier from given jointly simulated asset returns. \n",
    "With risk meausre absolute semideviation and fixed target under-performance, the optimizatoin can be reformulated as an Linear Programming problem. \n",
    "With one single optimization, PyMCEF can find all optimal solutions with risk tolerance $\\lambda\\in [0,\\infty)$, and each optimal solution cooresponds with an interval of $\\lambda$.\n",
    "The correctness of each optimal portfolio and its corresponding interval of $\\lambda$ can be checked against existing Linear Programming softwares.\n",
    "\n",
    "The accuracy and speed of PyMCEF is benchmarked against [CyLP](https://github.com/coin-or/CyLP), a Python interface for [CLP](https://projects.coin-or.org/Clp). \n",
    "We choose to benchmark against CLP because of its superior performance compared with other open source LP solvers (GLPK etc.)\n",
    "The [performance](http://plato.asu.edu/ftp/lpsimp.html) of CLP is close to commerical LP softwares. "
   ]
  },
  {
   "cell_type": "markdown",
   "metadata": {
    "collapsed": true
   },
   "source": [
    "### Linear Programming Setup \n",
    "\n",
    "Let's denote the random returns of all $N$ assets as a vector Y.\n",
    "A portfolio is defined by the $N$-vector of weights $\\{w_n\\}_{n=1}^N$.\n",
    "The reward of a portfolio is defined as its expected return.\n",
    "\n",
    "$$E[Y^{T}w]=E[\\sum_{n=1}^{N}w_{n}Y_{n}]$$\n",
    "\n",
    "Consider $K$ samples of $Y$: $\\{Y^{k}\\}_{k=1}^{K}$ and their sample\n",
    "means:\n",
    "\\begin{eqnarray*}\n",
    "\\overline{Y}_{n} & = & \\frac{1}{K}\\sum_{k=1}^{K}Y_{n}^{k},\\\\\n",
    "\\overline{Y} & = & \\left[\\overline{Y}_{1},\\dots,\\overline{Y}_{n}\\right]^{T}.\n",
    "\\end{eqnarray*}"
   ]
  },
  {
   "cell_type": "markdown",
   "metadata": {},
   "source": [
    "Wtih absolute semideviation as risk measure, the optmization becomes the following:\n",
    "\n",
    "\\begin{eqnarray}\n",
    "\\underset{{u_{k},w_{n},v_{k}}}{\\mathrm{argmin}} & \\frac{1}{K}\\sum_{k=1}^{K}u_{k}-\\lambda\\sum_{n=1}^{N}w_{n}\\overline{Y}_{n}\\\\\n",
    "\\mathrm{subject\\ to} & \\sum_{n=1}^{N}w_{n} & =1\\\\\n",
    "& u_{k}+\\sum_{n=1}^{N}w_{n}(Y_{n}^{k}-\\overline{Y}_{n})-v_{k} & =0\\quad \\forall k=1,\\dots,K \\\\\n",
    " & w_{n},u_{k},v_{k} & \\ge0.\n",
    "\\end{eqnarray}"
   ]
  },
  {
   "cell_type": "markdown",
   "metadata": {},
   "source": [
    "With fixed target under-performance as risk measure, \n",
    "the optimization becomes the following:\n",
    "\n",
    "\\begin{eqnarray}\n",
    "\\underset{{u_{k},w_{n},v_{k}}}{\\mathrm{argmin}} & \\frac{1}{K}\\sum_{k=1}^{K}u_{k}-\\lambda\\sum_{n=1}^{N}w_{n}\\overline{Y}_{n}\\\\\n",
    "\\mathrm{subject\\ to} & \\sum_{n=1}^{N}w_{n} & =1\\\\\n",
    " & u_{k}+\\sum_{n=1}^{N}w_{n}Y_{n}^{k}-v_{k} & =t\\quad \\forall k=1,\\dots,K \\\\\n",
    " & w_{n},u_{k},v_{k} & \\ge0,\n",
    "\\end{eqnarray}\n",
    "where $t$ is the target, and $u_k$ are auxilary variables and $v_k$ are slack variables. "
   ]
  },
  {
   "cell_type": "markdown",
   "metadata": {
    "collapsed": true
   },
   "source": [
    "# Benchmark Problems\n",
    "\n",
    "We start with a small starter problem where the details of LP problem and the optimal solutions can be displayed. \n",
    "After that, we test with larger problem to compare the speed of PyMCEF and CyLP."
   ]
  },
  {
   "cell_type": "markdown",
   "metadata": {},
   "source": [
    "### Starter problem\n",
    "\n",
    "Consider an investment universe with 3 assets, whose cross sectional returns have 3 equally possible outcomes:\n",
    "\n",
    "|           | Asset 1 | Asset 2 | Asset 3 |\n",
    "|-----------|---------|---------|---------|\n",
    "| Outcome 1 | 10      | 1       | 5       |\n",
    "| Outcome 2 | -2      | 0       | 2      |\n",
    "| Outcome 3 | -3      | 1       | -3      |\n",
    "We use the fixed-target under-performance as risk measure and choose the fixed-target as $t=0$.\n",
    "In this case, the linear programming problem is:"
   ]
  },
  {
   "cell_type": "markdown",
   "metadata": {},
   "source": [
    "\\begin{align*}\n",
    "\\underset{\\mathrm{u_{1},u_{2},u_{3},w_{1},w_{2},w_{3},v_{1},v_{2},v_{3}\\ge0}}{\\mathrm{argmin}} & \\frac{1}{3}u_{1}+\\frac{1}{3}u_{2}+\\frac{1}{3}u_{3}-\\lambda\\left(\\frac{5}{3}w_{1}+\\frac{2}{3}w_{2}+\\frac{1}{3}w_{3}\\right)\\\\\n",
    "\\left[\\begin{array}{ccccccccc}\n",
    "0 & 0 & 0 & 1 & 1 & 1 & 0 & 0 & 0\\\\\n",
    "1 &  &  & 10 & 1 & 5 & -1\\\\\n",
    " & 1 &  & -2 & 0 & 2 &  & -1\\\\\n",
    " &  & 1 & -3 & 1 & -3 &  &  & -1\n",
    "\\end{array}\\right] & \\left[\\begin{array}{c}\n",
    "u_{1}\\\\\n",
    "u_{2}\\\\\n",
    "u_{3}\\\\\n",
    "w_{1}\\\\\n",
    "w_{2}\\\\\n",
    "w_{3}\\\\\n",
    "v_{1}\\\\\n",
    "v_{2}\\\\\n",
    "v_{3}\n",
    "\\end{array}\\right]=\\left[\\begin{array}{c}\n",
    "1\\\\\n",
    "0\\\\\n",
    "0\\\\\n",
    "0\n",
    "\\end{array}\\right]\n",
    "\\end{align*}"
   ]
  },
  {
   "cell_type": "markdown",
   "metadata": {},
   "source": [
    "With PyMCEF we can obtain all the optimal solutions, with $\\lambda$ varying from $+\\infty$ to $0$."
   ]
  },
  {
   "cell_type": "code",
   "execution_count": 1,
   "metadata": {
    "collapsed": true
   },
   "outputs": [],
   "source": [
    "%%capture\n",
    "from pymcef import SimpleEF, RiskMeasure\n",
    "import numpy as np\n",
    "# notice that each row corresponds of all realizations of one asset return\n",
    "\n",
    "returns = np.array([10,-2,-3,1,0,1,5,2,-3]).reshape((3, 3))\n",
    "labels = ['Asset 1', 'Asset 2', 'Asset 3']\n",
    "sol = SimpleEF(training_set = returns, \\\n",
    "               risk_measure = RiskMeasure.FixTargetUnderPerformance, \n",
    "               target_return = 0,\\\n",
    "               asset_names = labels)"
   ]
  },
  {
   "cell_type": "markdown",
   "metadata": {},
   "source": [
    "The solutions are:"
   ]
  },
  {
   "cell_type": "code",
   "execution_count": 2,
   "metadata": {
    "hide_input": false
   },
   "outputs": [
    {
     "name": "stdout",
     "output_type": "stream",
     "text": [
      "Efficient portfolio: 1\n",
      "  Risk tolerance interval: (4.0, inf)\n",
      "  Positions: \n",
      "    Asset 1\n",
      "    1.0\n",
      "Efficient portfolio: 1\n",
      "  Risk tolerance interval: (1.6, 4.0)\n",
      "  Positions: \n",
      "    Asset 1, Asset 3\n",
      "    0.5, 0.5\n",
      "Efficient portfolio: 3\n",
      "  Risk tolerance interval: (0.0, 1.6)\n",
      "  Positions: \n",
      "    Asset 1, Asset 2, Asset 3\n",
      "    0.125, 0.75, 0.125\n"
     ]
    }
   ],
   "source": [
    "i = 1\n",
    "for prt in sol.frontier_in_sample:\n",
    "    print(\"Efficient portfolio: \" + str(i))\n",
    "    lbd_l, lbd_u = prt['lambda_l'], prt['lambda_u']\n",
    "    print(\"  Risk tolerance interval: (\" + str(lbd_l) + \", \" + str(lbd_u) + \")\")\n",
    "    ws = prt['weight']\n",
    "    ks = [labels[i] for i in ws.keys()]\n",
    "    vs = [str(v) for v in  ws.values()]\n",
    "    print(\"  Positions: \")\n",
    "    print(\"    \" + \", \".join(ks))\n",
    "    print(\"    \" + \", \".join(vs))\n",
    "    i += 1\n",
    "#sol.frontier_in_sample[0]"
   ]
  },
  {
   "cell_type": "markdown",
   "metadata": {},
   "source": [
    "Now we choose various risk tolerances and use CyLP to obtain the optimal solutions. \n",
    "Each solution obtained by CyLP should agree with one of the three solutions produced by PyMCEF, whose interval of $\\lambda$ covers that particular risk tolerance used by CyLP.\n",
    "\n",
    "CyLP allow the user to specify inequity constraints, let's reformulate the LP problem with that:"
   ]
  },
  {
   "cell_type": "markdown",
   "metadata": {},
   "source": [
    "\\begin{eqnarray*}\n",
    "\\min_{u_{k},w_{n},v_{k}} & \\frac{1}{K}\\sum_{k=1}^{K}u_{k}-\\lambda\\sum_{n=1}^{N}w_{n}\\overline{Y}_{n}\\\\\n",
    "\\mathrm{subject\\ to} & \\sum_{n=1}^{N}w_{n} & =1\\\\\n",
    " & u_{k}+\\sum_{n=1}^{N}w_{n}Y_{n}^{k} & \\ge t\\\\\n",
    " & w_{n},u_{k} & \\ge0.\n",
    "\\end{eqnarray*}"
   ]
  },
  {
   "cell_type": "markdown",
   "metadata": {},
   "source": [
    "As can be shown from the results displayed below, CyLP validates PyMCEF on this starter problem.\n",
    "Notice that without PyMCEF, you have no knowledge of those intervals, all you can do is to try your luck with many different values of $\\lambda$, \n",
    "and hope that the solutions you obtain will cover the part of efficient frontier that you are interested."
   ]
  },
  {
   "cell_type": "code",
   "execution_count": 3,
   "metadata": {
    "format": "column",
    "hide_input": true,
    "scrolled": false
   },
   "outputs": [
    {
     "data": {
      "text/html": [
       "<table>\n",
       "<tbody>\n",
       "<tr><td>Risk tolerance</td><td>Asset 1</td><td>Asset 2</td><td>Asset 3</td></tr>\n",
       "<tr><td>5.0           </td><td>1.0    </td><td>0.0    </td><td>0.0    </td></tr>\n",
       "<tr><td>4.75          </td><td>1.0    </td><td>0.0    </td><td>0.0    </td></tr>\n",
       "<tr><td>4.5           </td><td>1.0    </td><td>0.0    </td><td>0.0    </td></tr>\n",
       "<tr><td>4.25          </td><td>1.0    </td><td>0.0    </td><td>0.0    </td></tr>\n",
       "<tr><td>4.0           </td><td>1.0    </td><td>0.0    </td><td>0.0    </td></tr>\n",
       "<tr><td>3.75          </td><td>0.5    </td><td>0.0    </td><td>0.5    </td></tr>\n",
       "<tr><td>3.5           </td><td>0.5    </td><td>0.0    </td><td>0.5    </td></tr>\n",
       "<tr><td>3.25          </td><td>0.5    </td><td>0.0    </td><td>0.5    </td></tr>\n",
       "<tr><td>3.0           </td><td>0.5    </td><td>0.0    </td><td>0.5    </td></tr>\n",
       "<tr><td>2.75          </td><td>0.5    </td><td>0.0    </td><td>0.5    </td></tr>\n",
       "<tr><td>2.5           </td><td>0.5    </td><td>0.0    </td><td>0.5    </td></tr>\n",
       "<tr><td>2.25          </td><td>0.5    </td><td>0.0    </td><td>0.5    </td></tr>\n",
       "<tr><td>2.0           </td><td>0.5    </td><td>0.0    </td><td>0.5    </td></tr>\n",
       "<tr><td>1.75          </td><td>0.5    </td><td>0.0    </td><td>0.5    </td></tr>\n",
       "<tr><td>1.5           </td><td>0.125  </td><td>0.75   </td><td>0.125  </td></tr>\n",
       "<tr><td>1.25          </td><td>0.125  </td><td>0.75   </td><td>0.125  </td></tr>\n",
       "<tr><td>1.0           </td><td>0.125  </td><td>0.75   </td><td>0.125  </td></tr>\n",
       "<tr><td>0.75          </td><td>0.125  </td><td>0.75   </td><td>0.125  </td></tr>\n",
       "<tr><td>0.5           </td><td>0.125  </td><td>0.75   </td><td>0.125  </td></tr>\n",
       "<tr><td>0.25          </td><td>0.125  </td><td>0.75   </td><td>0.125  </td></tr>\n",
       "<tr><td>0.0           </td><td>0.125  </td><td>0.75   </td><td>0.125  </td></tr>\n",
       "</tbody>\n",
       "</table>"
      ],
      "text/plain": [
       "<IPython.core.display.HTML object>"
      ]
     },
     "metadata": {},
     "output_type": "display_data"
    }
   ],
   "source": [
    "import warnings\n",
    "warnings.filterwarnings('ignore')\n",
    "from IPython.display import HTML, display\n",
    "import tabulate\n",
    "from cylp.cy import CyClpSimplex\n",
    "from cylp.py.modeling.CyLPModel import CyLPArray\n",
    "lambdas = np.linspace(5.0, 0.0, 21)\n",
    "\n",
    "s = CyClpSimplex()\n",
    "\n",
    "# Add variables\n",
    "w = s.addVariable('w', 3)\n",
    "u = s.addVariable('u', 3)\n",
    "A = np.matrix([[10, 1, 5],[-2, 0, 2],[-3, 1, -3]], dtype='float64')\n",
    "B = np.matrix(np.eye(3, dtype='float64'))\n",
    "b = CyLPArray([0.0, 0.0, 0.0])\n",
    "\n",
    "# Add constraints\n",
    "s += B * u + A * w >= b\n",
    "s += w.sum() == 1.0\n",
    "s += w >= 0.0\n",
    "s += u >= 0.0\n",
    "\n",
    "# Set the objective function\n",
    "c = CyLPArray([5.0/3.0, 2.0/3.0, 4.0/3.0])\n",
    "c2 = CyLPArray([1.0/3.0, 1.0/3.0, 1.0/3.0])\n",
    "output = [['Risk tolerance'] + labels]\n",
    "for lbd in lambdas:\n",
    "    c1 = lbd * c\n",
    "    s.objective = c2 * u -  c1 * w\n",
    "    s.primal()\n",
    "    sol_w = s.primalVariableSolution['w'] \n",
    "    output.append([lbd] + sol_w.tolist())\n",
    "display(HTML(tabulate.tabulate(output, tablefmt='html')))"
   ]
  },
  {
   "cell_type": "markdown",
   "metadata": {
    "collapsed": true
   },
   "source": [
    "### Heavy-duty problem\n",
    "\n",
    "Now let's use Monte Carlo to simulate a return distribution with a large number of realizations.\n",
    "We will validate the results obtained by PyMCEF by CyLP and compare their speed.\n",
    "\n",
    "We use a 3D normal distribution with the following covariance matrix and mean.\n"
   ]
  },
  {
   "cell_type": "markdown",
   "metadata": {},
   "source": [
    "\\begin{align*}\n",
    "\\mu=\\left[\\begin{array}{c}\n",
    "5\\\\\n",
    "2\\\\\n",
    "4\n",
    "\\end{array}\\right], & \\Sigma=\\left[\\begin{array}{ccc}\n",
    "10 & -3 & -1\\\\\n",
    "-3 & 2 & 1\\\\\n",
    "-1 & 1 & 4\n",
    "\\end{array}\\right].\n",
    "\\end{align*}"
   ]
  },
  {
   "cell_type": "markdown",
   "metadata": {},
   "source": [
    "The fixed target is chosen as $t=1$ in the risk measure."
   ]
  },
  {
   "cell_type": "code",
   "execution_count": 4,
   "metadata": {},
   "outputs": [
    {
     "name": "stdout",
     "output_type": "stream",
     "text": [
      "Total time cost for PyMCEF: 0.0660901069641 s\n"
     ]
    }
   ],
   "source": [
    "from numpy.random import multivariate_normal as mn\n",
    "from time import time\n",
    "numSims = 5000\n",
    "t = 1\n",
    "means = [5, 2, 4]\n",
    "covs = [[10, -3, -1],\n",
    "        [-3, 2, 1], \n",
    "        [-1, 1, 4]] \n",
    "returns = mn(means, covs, numSims)\n",
    "\n",
    "tic = time()\n",
    "simple_ef = SimpleEF(target_return=t, training_set=returns.T,\n",
    "                     risk_measure=RiskMeasure.FixTargetUnderPerformance)\n",
    "cost_pymcef = time() - tic \n",
    "print(\"Total time cost for PyMCEF: \" + str(cost_pymcef) + \" s\")\n",
    "ports = simple_ef.frontier_in_sample\n",
    "weights_pymcef = np.zeros((len(ports), 3))\n",
    "lbds = []\n",
    "for i in range(len(ports)):\n",
    "    ws = ports[i]['weight']\n",
    "    lbd_l = ports[i]['lambda_l']\n",
    "    lbd_u = ports[i]['lambda_u']\n",
    "    lbds.append((lbd_l + lbd_u)/2.0 if i > 0 else 2.0*lbd_l)\n",
    "    for k, v in ws.items():\n",
    "        weights_pymcef[i][k] = v"
   ]
  },
  {
   "cell_type": "code",
   "execution_count": 5,
   "metadata": {},
   "outputs": [
    {
     "name": "stdout",
     "output_type": "stream",
     "text": [
      "Total time cost for CyLP: 7.71705293655 s\n"
     ]
    }
   ],
   "source": [
    "smplx = CyClpSimplex()\n",
    "\n",
    "# Add variables\n",
    "w = smplx.addVariable('w', 3)\n",
    "u = smplx.addVariable('u', numSims)\n",
    "A = np.matrix(returns)\n",
    "B = np.matrix(np.eye(numSims, dtype='float64'))\n",
    "b = CyLPArray([t] * numSims)\n",
    "\n",
    "# Add constraints\n",
    "smplx += B * u + A * w >= b\n",
    "smplx += w.sum() == 1.0\n",
    "smplx += w >= 0.0\n",
    "smplx += u >= 0.0\n",
    "\n",
    "# Set the objective function\n",
    "c = CyLPArray(returns.mean(axis=0))\n",
    "c2 = CyLPArray([1.0/numSims] * numSims)\n",
    "\n",
    "# Solve the LP problems\n",
    "weights_cylp = np.zeros_like(weights_pymcef)\n",
    "tic = time()\n",
    "for i in range(len(lbds)):\n",
    "    lbd = lbds[i]\n",
    "    c1 = lbd * c\n",
    "    smplx.objective = c2 * u -  c1 * w\n",
    "    smplx.primal()\n",
    "    weights_cylp[i,:]=smplx.primalVariableSolution['w'] \n",
    "cost_cylp = time() - tic \n",
    "print(\"Total time cost for CyLP: \" + str(cost_cylp) + \" s\")"
   ]
  },
  {
   "cell_type": "markdown",
   "metadata": {},
   "source": [
    "As we can see, CyLP is more than 100 times slower than PyMCEF. And the solutions obtained by these two methods agrees upto machine epsilon."
   ]
  },
  {
   "cell_type": "code",
   "execution_count": 6,
   "metadata": {},
   "outputs": [
    {
     "name": "stdout",
     "output_type": "stream",
     "text": [
      "8.32667268469e-15\n"
     ]
    }
   ],
   "source": [
    "print np.max(np.abs(weights_pymcef - weights_cylp))"
   ]
  },
  {
   "cell_type": "code",
   "execution_count": 7,
   "metadata": {},
   "outputs": [
    {
     "data": {
      "text/plain": [
       "<matplotlib.text.Text at 0x10e95e8d0>"
      ]
     },
     "execution_count": 7,
     "metadata": {},
     "output_type": "execute_result"
    },
    {
     "data": {
      "image/png": "[encoded data removed]",
      "text/plain": [
       "<matplotlib.figure.Figure at 0x10d642bd0>"
      ]
     },
     "metadata": {},
     "output_type": "display_data"
    }
   ],
   "source": [
    "%matplotlib inline\n",
    "import matplotlib.pyplot as plt\n",
    "diffs = np.mean(np.abs(weights_pymcef - weights_cylp), axis=1)\n",
    "plt.plot(diffs)\n",
    "plt.xlabel('portfolio indices')\n",
    "plt.ylabel('L1 norm of weight error')"
   ]
  }
 ],
 "metadata": {
  "anaconda-cloud": {},
  "hide_input": false,
  "kernelspec": {
   "display_name": "Python [conda env:jupyter27]",
   "language": "python",
   "name": "conda-env-jupyter27-py"
  },
  "language_info": {
   "codemirror_mode": {
    "name": "ipython",
    "version": 2
   },
   "file_extension": ".py",
   "mimetype": "text/x-python",
   "name": "python",
   "nbconvert_exporter": "python",
   "pygments_lexer": "ipython2",
   "version": "2.7.13"
  }
 },
 "nbformat": 4,
 "nbformat_minor": 2
}
