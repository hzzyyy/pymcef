{
 "cells": [
  {
   "cell_type": "markdown",
   "metadata": {},
   "source": [
    "# <center>Quickstart tutorial</center>\n",
    "\n",
    "## Install\n",
    "Please install package PyMCEF through eighter conda or pip:\n",
    "\n",
    "<pre>\n",
    "$ conda install -c hzzyyy pymcef\n",
    "\n",
    "$ pip install pymcef\n",
    "</pre>\n",
    "\n",
    "conda packages are available for both python 2.7 and 3.5 on MacOS, Linux and Windows.\n",
    "\n",
    "pip packages are available for both python 2.7 and 3.5 on MacOs, Windows but not Linux.\n",
    "\n",
    "Only 64 bits OS are supported."
   ]
  },
  {
   "cell_type": "markdown",
   "metadata": {},
   "source": [
    "## Prerequisites"
   ]
  }
 ],
 "metadata": {
  "anaconda-cloud": {},
  "kernelspec": {
   "display_name": "Python [conda env:jupyter27]",
   "language": "python",
   "name": "conda-env-jupyter27-py"
  },
  "language_info": {
   "codemirror_mode": {
    "name": "ipython",
    "version": 2
   },
   "file_extension": ".py",
   "mimetype": "text/x-python",
   "name": "python",
   "nbconvert_exporter": "python",
   "pygments_lexer": "ipython2",
   "version": "2.7.13"
  }
 },
 "nbformat": 4,
 "nbformat_minor": 2
}
