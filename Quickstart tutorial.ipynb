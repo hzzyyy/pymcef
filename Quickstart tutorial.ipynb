{
 "cells": [
  {
   "cell_type": "markdown",
   "metadata": {},
   "source": [
    "# Quickstart tutorial\n",
    "<br>\n",
    "<br>\n",
    "## Prerequisites\n",
    "----------------------------\n",
    "### Install\n",
    "Please install package PyMCEF through eighter conda or pip:\n",
    "\n",
    "<pre>\n",
    "$ conda install -c hzzyyy pymcef\n",
    "\n",
    "$ pip install pymcef\n",
    "</pre>\n",
    "\n",
    "conda packages are available for both python 2.7 and 3.5 on MacOS, Linux and Windows.\n",
    "\n",
    "pip packages are available for both python 2.7 and 3.5 on MacOs, Windows but not Linux.\n",
    "\n",
    "This package is only available on 64 bits OS."
   ]
  },
  {
   "cell_type": "markdown",
   "metadata": {},
   "source": [
    "### Efficient frontier\n",
    "This package helps to find the efficient frontier based on (jointly) simulated returns of all investible assets.\n",
    "\n",
    "Alternatively, this package tries to solve this problem numerically:\n",
    "\n",
    "> Given the joint distribution of the returns of all the investible assets, what should be the\n",
    "> best choice of weights to assign on each assets, for all possible risk preference.\n",
    "\n",
    "Efficient frontier is the set of all 'best' choices of asset weights (a.k.a. portfolio) with all possible risk preferences.\n",
    "\n",
    "Heuristically, the most risk-taking portfolio simply puts all weight on the asset with largest expected return. \n",
    "\n",
    "The most risk-averse portfolio is very diversified, with many positions hedging each other."
   ]
  },
  {
   "cell_type": "markdown",
   "metadata": {
    "collapsed": true
   },
   "source": [
    "### Portfolio optimization\n",
    "\n",
    "Each portfolio on the efficient frontier is obtained by solving the following optimization problem on the choice of weight vector $w$:\n",
    "\n",
    "\\begin{align*}\n",
    "\\underset{w}{\\mathrm{argmin}}\\quad & \\mathrm{Risk}\\left(w\\right)-\\lambda\\cdot\\mathrm{Reward}\\left(w\\right),\\\\\n",
    "\\mathrm{subject\\ to}\\quad & \\sum_{i}w_{i} = 1,\\\\\n",
    " & \\ \\ \\ \\quad w_{i} > 0.\n",
    "\\end{align*}\n",
    "\n",
    "The Lagrangian multiplier $\\lambda$ here uniquely defines a risk preference and its corresponding solution. \n",
    "With $\\lambda$ going to infinity the solution is the most risk-taking portfolio and with $\\lambda$ being zero, the solution is the most risk-averse portfolio."
   ]
  },
  {
   "cell_type": "markdown",
   "metadata": {},
   "source": [
    "### Risk measures\n",
    "\n",
    "We haven't defined the formulas for the risk and reward functions in the above optimization problem. Not surprisingly, the reward function is the just the expected return of the whole portfolio. Suppose the returns of all the asserts is the random vector: \n",
    "\n",
    "$$ Y = \\{Y_i\\}. $$ \n",
    "\n",
    "Then the reward function is simply:\n",
    "\n",
    "\\begin{eqnarray*}\n",
    "\\mathrm{Reward}\\left(w\\right) & = & \\mathbb{E}\\left[\\sum_{i}w_{i}Y_{i}\\right]\\\\\n",
    " & = & \\mathbb{E}\\left[X\\right]\\quad\\mathrm{namely}\n",
    "\\end{eqnarray*}\n",
    "\n",
    "The risk function, formally known as risk measure, is a function of the portfolio return random variable $X$."
   ]
  },
  {
   "cell_type": "code",
   "execution_count": null,
   "metadata": {
    "collapsed": true
   },
   "outputs": [],
   "source": []
  }
 ],
 "metadata": {
  "anaconda-cloud": {},
  "kernelspec": {
   "display_name": "Python [conda env:jupyter27]",
   "language": "python",
   "name": "conda-env-jupyter27-py"
  },
  "language_info": {
   "codemirror_mode": {
    "name": "ipython",
    "version": 2
   },
   "file_extension": ".py",
   "mimetype": "text/x-python",
   "name": "python",
   "nbconvert_exporter": "python",
   "pygments_lexer": "ipython2",
   "version": "2.7.13"
  }
 },
 "nbformat": 4,
 "nbformat_minor": 2
}
