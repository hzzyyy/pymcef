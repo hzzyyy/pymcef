{
 "cells": [
  {
   "cell_type": "markdown",
   "metadata": {},
   "source": [
    "# Quickstart tutorial\n",
    "<br>\n",
    "<br>\n",
    "## Prerequisites\n",
    "----------------------------\n",
    "### Install\n",
    "Please install package PyMCEF through eighter conda or pip:\n",
    "\n",
    "<pre>\n",
    "$ conda install -c hzzyyy pymcef\n",
    "\n",
    "$ pip install pymcef\n",
    "</pre>\n",
    "\n",
    "conda packages are available for both python 2.7 and 3.5 on MacOS, Linux and Windows.\n",
    "\n",
    "pip packages are available for both python 2.7 and 3.5 on MacOs, Windows but not Linux.\n",
    "\n",
    "This package is only available on 64 bits OS."
   ]
  },
  {
   "cell_type": "markdown",
   "metadata": {},
   "source": [
    "### Efficient frontier\n",
    "This package helps to find the efficient frontier based on (jointly) simulated returns of all investible assets.\n",
    "\n",
    "Alternatively speaking, this package tries to solve this problem numerically:\n",
    "\n",
    "> Given the joint distribution of the returns of all the investible assets, what should be the\n",
    "> best choice of weights to assign on each assets, for all possible risk preferences.\n",
    "\n",
    "Efficient frontier is the set of all 'best' choices of asset weights (a.k.a. portfolio) with all possible risk preferences.\n",
    "\n",
    "Heuristically, the most risk-taking portfolio simply puts all weight on the asset with largest expected return. \n",
    "\n",
    "The most risk-averse portfolio is very diversified, with many positions hedging each other."
   ]
  },
  {
   "cell_type": "markdown",
   "metadata": {
    "collapsed": true
   },
   "source": [
    "### Portfolio optimization\n",
    "\n",
    "Each portfolio on the efficient frontier is obtained by solving the following optimization problem on the choice of weight vector $w$:\n",
    "\n",
    "\\begin{align*}\n",
    "\\underset{w}{\\mathrm{argmin}}\\quad & \\mathrm{Risk}\\left(w\\right)-\\lambda\\cdot\\mathrm{Reward}\\left(w\\right),\\\\\n",
    "\\mathrm{subject\\ to}\\quad & \\sum_{i}w_{i} = 1,\\\\\n",
    " & \\ \\ \\ \\quad w_{i} > 0.\n",
    "\\end{align*}\n",
    "\n",
    "The Lagrangian multiplier $\\lambda$ here uniquely defines a risk preference and its corresponding solution. \n",
    "With $\\lambda$ going to infinity the solution is the most risk-taking portfolio and with $\\lambda$ being zero, the solution is the most risk-averse portfolio."
   ]
  },
  {
   "cell_type": "markdown",
   "metadata": {},
   "source": [
    "### Risk measures\n",
    "\n",
    "We haven't defined the formulas for the risk and reward functions in the above optimization problem. Not surprisingly, the reward function is the just the expected return of the whole portfolio. Suppose the returns of all the asserts is the random vector: \n",
    "\n",
    "$$ Y = \\{Y_i\\}. $$ \n",
    "\n",
    "Then the reward function is simply:\n",
    "\n",
    "\\begin{eqnarray*}\n",
    "\\mathrm{Reward}\\left(w\\right) & = & \\mathbb{E}\\left[\\sum_{i}w_{i}Y_{i}\\right]\\\\\n",
    " & = & \\mathbb{E}\\left[X\\right]\\quad\\mathrm{namely}\n",
    "\\end{eqnarray*}\n",
    "\n",
    "The less obviously obtained risk function, formally known as risk measure, is a function of the portfolio return random variable $X$. \n",
    "In the Markowitz mean-variance model, the risk measure is the variance of $X$. In this PyMCEF, the following two more sophisticated risk measures are used:\n",
    "\n",
    "####  Absolute Semideviation\n",
    "\n",
    "\\begin{eqnarray*}\n",
    "\\mathrm{Risk}\\left(w\\right) & = & \\mathbb{E}\\left[\\max\\left(\\mathbb{E}X-X,\\ 0\\right)\\right]\\\\\n",
    " & = & \\mathbb{E}\\left[\\left(\\mathbb{E}X-X\\right)^{+}\\right].\n",
    "\\end{eqnarray*}\n",
    "\n",
    "#### Fixed-target under-performance\n",
    "\n",
    "\\begin{eqnarray*}\n",
    "\\mathrm{Risk}\\left(w\\right) & = & \\mathbb{E}\\left[\\max\\left(t-X,\\ 0\\right)\\right]\\\\\n",
    " & = & \\mathbb{E}\\left[\\left(t-X\\right)^{+}\\right],\n",
    "\\end{eqnarray*}\n",
    "\n",
    "where $t$ is given target. The riskless return is a sensible choice. \n",
    "\n",
    "These two risk measures are more sophisticated than the variance because they are more consistent with the stochastic dominance theory. "
   ]
  },
  {
   "cell_type": "markdown",
   "metadata": {},
   "source": [
    "### Stochastic programming\n",
    "\n",
    "The (joint) distribution of the returns of assets $\\{Y_i\\}$ can be parametric. A convenient\n",
    "choice is to assume Normal or log Normal distribution. More complicated ways of\n",
    "parameterizations for sure exist, and they lead to different optimization problems. \n",
    "In addition with $\\lambda$ varying as a positive real number, we face a continuum of\n",
    "optimization problems.\n",
    "\n",
    "Alternatively, we can work with the (finite) samples of $\\{Y_i\\}$.\n",
    "In this case, we replace the expectation in the risk or reward function with statistical mean and work with a stochastic programming problem. \n",
    "PyMCEF is implemented in this way, and there is huge advantage in terms of flexibility. \n",
    "The input for PyMCEf is just Monte Carlo simulated returns, and no knowledge about the underlying distribution function is needed for this package to work. \n",
    "In Bayesian inference, it is a common practice to directly simulate the posterior predictive\n",
    "distribution with Markov Chain Monte Carlo, where the posterior density function is known only \n",
    "up to a scaling factor. In another word, in practice, samples of distribution is more available than a parametric form.\n"
   ]
  },
  {
   "cell_type": "markdown",
   "metadata": {},
   "source": [
    "## One example\n",
    "---------"
   ]
  }
 ],
 "metadata": {
  "anaconda-cloud": {},
  "kernelspec": {
   "display_name": "Python [conda env:jupyter27]",
   "language": "python",
   "name": "conda-env-jupyter27-py"
  },
  "language_info": {
   "codemirror_mode": {
    "name": "ipython",
    "version": 2
   },
   "file_extension": ".py",
   "mimetype": "text/x-python",
   "name": "python",
   "nbconvert_exporter": "python",
   "pygments_lexer": "ipython2",
   "version": "2.7.13"
  }
 },
 "nbformat": 4,
 "nbformat_minor": 2
}
